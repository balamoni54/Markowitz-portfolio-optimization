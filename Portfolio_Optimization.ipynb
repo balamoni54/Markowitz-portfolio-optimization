{
 "cells": [
  {
   "cell_type": "code",
   "execution_count": 1,
   "metadata": {},
   "outputs": [],
   "source": [
    "#Import the python libraries\n",
    "from pandas_datareader import data as web\n",
    "import pandas as pd\n",
    "import numpy as np\n",
    "from datetime import datetime\n",
    "import matplotlib.pyplot as plt\n",
    "plt.style.use('fivethirtyeight')"
   ]
  },
  {
   "cell_type": "code",
   "execution_count": 2,
   "metadata": {},
   "outputs": [],
   "source": [
    "#Get the stock tickers in the portfolio \n",
    "assets = ['AMD','NFLX','AAPL','GOOG']"
   ]
  },
  {
   "cell_type": "code",
   "execution_count": 3,
   "metadata": {},
   "outputs": [],
   "source": [
    "#Assign weights to the stocks. \n",
    "weights = np.array([0.25,0.25,0.25,0.25])"
   ]
  },
  {
   "cell_type": "code",
   "execution_count": 4,
   "metadata": {},
   "outputs": [],
   "source": [
    "# Get the stock/ portfolio starting date\n",
    "stockStartDate = '2015-01-01'"
   ]
  },
  {
   "cell_type": "code",
   "execution_count": 5,
   "metadata": {},
   "outputs": [
    {
     "data": {
      "text/plain": [
       "'2021-06-08'"
      ]
     },
     "execution_count": 5,
     "metadata": {},
     "output_type": "execute_result"
    }
   ],
   "source": [
    "# Get the stocks' ending date (today)\n",
    "today = datetime.today().strftime('%Y-%m-%d')\n",
    "today"
   ]
  },
  {
   "cell_type": "code",
   "execution_count": 6,
   "metadata": {},
   "outputs": [],
   "source": [
    "# Create a dataframe to store the adjusted close price of the stocks\n",
    "df = pd.DataFrame()\n",
    "\n",
    "# Store the adjusted close price of the stock into the df\n",
    "for stock in assets:\n",
    "  df[stock] = web.DataReader(stock,data_source='yahoo',start=stockStartDate,end=today)['Adj Close']"
   ]
  },
  {
   "cell_type": "code",
   "execution_count": 7,
   "metadata": {},
   "outputs": [
    {
     "data": {
      "text/html": [
       "<div>\n",
       "<style scoped>\n",
       "    .dataframe tbody tr th:only-of-type {\n",
       "        vertical-align: middle;\n",
       "    }\n",
       "\n",
       "    .dataframe tbody tr th {\n",
       "        vertical-align: top;\n",
       "    }\n",
       "\n",
       "    .dataframe thead th {\n",
       "        text-align: right;\n",
       "    }\n",
       "</style>\n",
       "<table border=\"1\" class=\"dataframe\">\n",
       "  <thead>\n",
       "    <tr style=\"text-align: right;\">\n",
       "      <th></th>\n",
       "      <th>AMD</th>\n",
       "      <th>NFLX</th>\n",
       "      <th>AAPL</th>\n",
       "      <th>GOOG</th>\n",
       "    </tr>\n",
       "    <tr>\n",
       "      <th>Date</th>\n",
       "      <th></th>\n",
       "      <th></th>\n",
       "      <th></th>\n",
       "      <th></th>\n",
       "    </tr>\n",
       "  </thead>\n",
       "  <tbody>\n",
       "    <tr>\n",
       "      <th>2015-01-02</th>\n",
       "      <td>2.67</td>\n",
       "      <td>49.848572</td>\n",
       "      <td>24.819241</td>\n",
       "      <td>523.373108</td>\n",
       "    </tr>\n",
       "    <tr>\n",
       "      <th>2015-01-05</th>\n",
       "      <td>2.66</td>\n",
       "      <td>47.311428</td>\n",
       "      <td>24.120045</td>\n",
       "      <td>512.463013</td>\n",
       "    </tr>\n",
       "    <tr>\n",
       "      <th>2015-01-06</th>\n",
       "      <td>2.63</td>\n",
       "      <td>46.501431</td>\n",
       "      <td>24.122320</td>\n",
       "      <td>500.585632</td>\n",
       "    </tr>\n",
       "    <tr>\n",
       "      <th>2015-01-07</th>\n",
       "      <td>2.58</td>\n",
       "      <td>46.742859</td>\n",
       "      <td>24.460564</td>\n",
       "      <td>499.727997</td>\n",
       "    </tr>\n",
       "    <tr>\n",
       "      <th>2015-01-08</th>\n",
       "      <td>2.61</td>\n",
       "      <td>47.779999</td>\n",
       "      <td>25.400398</td>\n",
       "      <td>501.303680</td>\n",
       "    </tr>\n",
       "  </tbody>\n",
       "</table>\n",
       "</div>"
      ],
      "text/plain": [
       "             AMD       NFLX       AAPL        GOOG\n",
       "Date                                              \n",
       "2015-01-02  2.67  49.848572  24.819241  523.373108\n",
       "2015-01-05  2.66  47.311428  24.120045  512.463013\n",
       "2015-01-06  2.63  46.501431  24.122320  500.585632\n",
       "2015-01-07  2.58  46.742859  24.460564  499.727997\n",
       "2015-01-08  2.61  47.779999  25.400398  501.303680"
      ]
     },
     "execution_count": 7,
     "metadata": {},
     "output_type": "execute_result"
    }
   ],
   "source": [
    "df.head()"
   ]
  },
  {
   "cell_type": "code",
   "execution_count": 8,
   "metadata": {},
   "outputs": [
    {
     "data": {
      "text/plain": [
       "(1619, 4)"
      ]
     },
     "execution_count": 8,
     "metadata": {},
     "output_type": "execute_result"
    }
   ],
   "source": [
    "df.shape"
   ]
  },
  {
   "cell_type": "code",
   "execution_count": 9,
   "metadata": {},
   "outputs": [
    {
     "data": {
      "image/png": "[encoded data removed]",
      "text/plain": [
       "<Figure size 432x288 with 1 Axes>"
      ]
     },
     "metadata": {
      "needs_background": "light"
     },
     "output_type": "display_data"
    }
   ],
   "source": [
    "# Visually show the stock/ portfolio\n",
    "title = 'Portfolio Adj. Close Price History'\n",
    "\n",
    "# Get the stocks\n",
    "my_stocks = df\n",
    "\n",
    "# Create and plot the graph\n",
    "for c in my_stocks.columns.values:\n",
    "  plt.plot(my_stocks[c],label=c)\n",
    "\n",
    "plt.title(title)\n",
    "plt.xlabel('Date',fontsize=18)\n",
    "plt.ylabel('Adj. Price USD ($)',fontsize=18)\n",
    "plt.legend(my_stocks.columns.values,loc='upper left')\n",
    "plt.show()"
   ]
  },
  {
   "cell_type": "code",
   "execution_count": 10,
   "metadata": {},
   "outputs": [
    {
     "data": {
      "text/html": [
       "<div>\n",
       "<style scoped>\n",
       "    .dataframe tbody tr th:only-of-type {\n",
       "        vertical-align: middle;\n",
       "    }\n",
       "\n",
       "    .dataframe tbody tr th {\n",
       "        vertical-align: top;\n",
       "    }\n",
       "\n",
       "    .dataframe thead th {\n",
       "        text-align: right;\n",
       "    }\n",
       "</style>\n",
       "<table border=\"1\" class=\"dataframe\">\n",
       "  <thead>\n",
       "    <tr style=\"text-align: right;\">\n",
       "      <th></th>\n",
       "      <th>AMD</th>\n",
       "      <th>NFLX</th>\n",
       "      <th>AAPL</th>\n",
       "      <th>GOOG</th>\n",
       "    </tr>\n",
       "    <tr>\n",
       "      <th>Date</th>\n",
       "      <th></th>\n",
       "      <th></th>\n",
       "      <th></th>\n",
       "      <th></th>\n",
       "    </tr>\n",
       "  </thead>\n",
       "  <tbody>\n",
       "    <tr>\n",
       "      <th>2015-01-02</th>\n",
       "      <td>NaN</td>\n",
       "      <td>NaN</td>\n",
       "      <td>NaN</td>\n",
       "      <td>NaN</td>\n",
       "    </tr>\n",
       "    <tr>\n",
       "      <th>2015-01-05</th>\n",
       "      <td>-0.003745</td>\n",
       "      <td>-0.050897</td>\n",
       "      <td>-0.028172</td>\n",
       "      <td>-0.020846</td>\n",
       "    </tr>\n",
       "    <tr>\n",
       "      <th>2015-01-06</th>\n",
       "      <td>-0.011278</td>\n",
       "      <td>-0.017121</td>\n",
       "      <td>0.000094</td>\n",
       "      <td>-0.023177</td>\n",
       "    </tr>\n",
       "    <tr>\n",
       "      <th>2015-01-07</th>\n",
       "      <td>-0.019011</td>\n",
       "      <td>0.005192</td>\n",
       "      <td>0.014022</td>\n",
       "      <td>-0.001713</td>\n",
       "    </tr>\n",
       "    <tr>\n",
       "      <th>2015-01-08</th>\n",
       "      <td>0.011628</td>\n",
       "      <td>0.022188</td>\n",
       "      <td>0.038422</td>\n",
       "      <td>0.003153</td>\n",
       "    </tr>\n",
       "    <tr>\n",
       "      <th>...</th>\n",
       "      <td>...</td>\n",
       "      <td>...</td>\n",
       "      <td>...</td>\n",
       "      <td>...</td>\n",
       "    </tr>\n",
       "    <tr>\n",
       "      <th>2021-06-02</th>\n",
       "      <td>0.014355</td>\n",
       "      <td>0.000321</td>\n",
       "      <td>0.006276</td>\n",
       "      <td>-0.003511</td>\n",
       "    </tr>\n",
       "    <tr>\n",
       "      <th>2021-06-03</th>\n",
       "      <td>-0.020617</td>\n",
       "      <td>-0.019650</td>\n",
       "      <td>-0.012154</td>\n",
       "      <td>-0.006885</td>\n",
       "    </tr>\n",
       "    <tr>\n",
       "      <th>2021-06-04</th>\n",
       "      <td>0.016193</td>\n",
       "      <td>0.010849</td>\n",
       "      <td>0.019022</td>\n",
       "      <td>0.019608</td>\n",
       "    </tr>\n",
       "    <tr>\n",
       "      <th>2021-06-07</th>\n",
       "      <td>-0.002819</td>\n",
       "      <td>-0.000162</td>\n",
       "      <td>0.000079</td>\n",
       "      <td>0.005845</td>\n",
       "    </tr>\n",
       "    <tr>\n",
       "      <th>2021-06-08</th>\n",
       "      <td>-0.005286</td>\n",
       "      <td>-0.006813</td>\n",
       "      <td>0.006407</td>\n",
       "      <td>0.006488</td>\n",
       "    </tr>\n",
       "  </tbody>\n",
       "</table>\n",
       "<p>1619 rows × 4 columns</p>\n",
       "</div>"
      ],
      "text/plain": [
       "                 AMD      NFLX      AAPL      GOOG\n",
       "Date                                              \n",
       "2015-01-02       NaN       NaN       NaN       NaN\n",
       "2015-01-05 -0.003745 -0.050897 -0.028172 -0.020846\n",
       "2015-01-06 -0.011278 -0.017121  0.000094 -0.023177\n",
       "2015-01-07 -0.019011  0.005192  0.014022 -0.001713\n",
       "2015-01-08  0.011628  0.022188  0.038422  0.003153\n",
       "...              ...       ...       ...       ...\n",
       "2021-06-02  0.014355  0.000321  0.006276 -0.003511\n",
       "2021-06-03 -0.020617 -0.019650 -0.012154 -0.006885\n",
       "2021-06-04  0.016193  0.010849  0.019022  0.019608\n",
       "2021-06-07 -0.002819 -0.000162  0.000079  0.005845\n",
       "2021-06-08 -0.005286 -0.006813  0.006407  0.006488\n",
       "\n",
       "[1619 rows x 4 columns]"
      ]
     },
     "execution_count": 10,
     "metadata": {},
     "output_type": "execute_result"
    }
   ],
   "source": [
    "# show the daily simple return\n",
    "returns = df.pct_change()\n",
    "returns"
   ]
  },
  {
   "cell_type": "code",
   "execution_count": 11,
   "metadata": {},
   "outputs": [
    {
     "data": {
      "text/html": [
       "<div>\n",
       "<style scoped>\n",
       "    .dataframe tbody tr th:only-of-type {\n",
       "        vertical-align: middle;\n",
       "    }\n",
       "\n",
       "    .dataframe tbody tr th {\n",
       "        vertical-align: top;\n",
       "    }\n",
       "\n",
       "    .dataframe thead th {\n",
       "        text-align: right;\n",
       "    }\n",
       "</style>\n",
       "<table border=\"1\" class=\"dataframe\">\n",
       "  <thead>\n",
       "    <tr style=\"text-align: right;\">\n",
       "      <th></th>\n",
       "      <th>AMD</th>\n",
       "      <th>NFLX</th>\n",
       "      <th>AAPL</th>\n",
       "      <th>GOOG</th>\n",
       "    </tr>\n",
       "  </thead>\n",
       "  <tbody>\n",
       "    <tr>\n",
       "      <th>AMD</th>\n",
       "      <td>0.388759</td>\n",
       "      <td>0.078938</td>\n",
       "      <td>0.070110</td>\n",
       "      <td>0.052573</td>\n",
       "    </tr>\n",
       "    <tr>\n",
       "      <th>NFLX</th>\n",
       "      <td>0.078938</td>\n",
       "      <td>0.178975</td>\n",
       "      <td>0.052126</td>\n",
       "      <td>0.055039</td>\n",
       "    </tr>\n",
       "    <tr>\n",
       "      <th>AAPL</th>\n",
       "      <td>0.070110</td>\n",
       "      <td>0.052126</td>\n",
       "      <td>0.087531</td>\n",
       "      <td>0.048127</td>\n",
       "    </tr>\n",
       "    <tr>\n",
       "      <th>GOOG</th>\n",
       "      <td>0.052573</td>\n",
       "      <td>0.055039</td>\n",
       "      <td>0.048127</td>\n",
       "      <td>0.072932</td>\n",
       "    </tr>\n",
       "  </tbody>\n",
       "</table>\n",
       "</div>"
      ],
      "text/plain": [
       "           AMD      NFLX      AAPL      GOOG\n",
       "AMD   0.388759  0.078938  0.070110  0.052573\n",
       "NFLX  0.078938  0.178975  0.052126  0.055039\n",
       "AAPL  0.070110  0.052126  0.087531  0.048127\n",
       "GOOG  0.052573  0.055039  0.048127  0.072932"
      ]
     },
     "execution_count": 11,
     "metadata": {},
     "output_type": "execute_result"
    }
   ],
   "source": [
    "# Create and show the annualized covariance matrix\n",
    "cov_matrix_annual = returns.cov()*252\n",
    "cov_matrix_annual"
   ]
  },
  {
   "cell_type": "code",
   "execution_count": 12,
   "metadata": {},
   "outputs": [
    {
     "data": {
      "text/plain": [
       "0.09012656116585994"
      ]
     },
     "execution_count": 12,
     "metadata": {},
     "output_type": "execute_result"
    }
   ],
   "source": [
    "# Calculate the portfolio variance\n",
    "port_variance = np.dot(weights.T,np.dot(cov_matrix_annual,weights))\n",
    "port_variance"
   ]
  },
  {
   "cell_type": "code",
   "execution_count": 13,
   "metadata": {},
   "outputs": [
    {
     "data": {
      "text/plain": [
       "0.30021086117237655"
      ]
     },
     "execution_count": 13,
     "metadata": {},
     "output_type": "execute_result"
    }
   ],
   "source": [
    "# Calculate the portfolio volatility aka standard deviation\n",
    "port_volatility = np.sqrt(port_variance)\n",
    "port_volatility"
   ]
  },
  {
   "cell_type": "code",
   "execution_count": 14,
   "metadata": {},
   "outputs": [
    {
     "data": {
      "text/plain": [
       "0.43546256342077144"
      ]
     },
     "execution_count": 14,
     "metadata": {},
     "output_type": "execute_result"
    }
   ],
   "source": [
    "# Calculate the annual portfolio return\n",
    "portfolio_simple_annual_return = np.sum(returns.mean()*weights)*252\n",
    "portfolio_simple_annual_return"
   ]
  },
  {
   "cell_type": "code",
   "execution_count": 15,
   "metadata": {},
   "outputs": [
    {
     "name": "stdout",
     "output_type": "stream",
     "text": [
      "Expected annual return: 44.0%\n",
      "Annual volatility/ risk: 30.0%\n",
      "Annual variance: 9.0%\n"
     ]
    }
   ],
   "source": [
    "# Sow the expected annual return, volatility (risk), and variance\n",
    "percent_var = str(round(port_variance,2)*100)+'%'\n",
    "percent_vola = str(round(port_volatility,2)*100)+'%'\n",
    "percent_ret = str(round(portfolio_simple_annual_return,2)*100)+'%'\n",
    "\n",
    "print('Expected annual return: '+percent_ret)\n",
    "print('Annual volatility/ risk: '+percent_vola)\n",
    "print('Annual variance: '+percent_var)"
   ]
  },
  {
   "cell_type": "code",
   "execution_count": 16,
   "metadata": {},
   "outputs": [],
   "source": [
    "from pypfopt.efficient_frontier import EfficientFrontier\n",
    "from pypfopt import risk_models\n",
    "from pypfopt import expected_returns\n",
    "from pypfopt import plotting"
   ]
  },
  {
   "cell_type": "code",
   "execution_count": 17,
   "metadata": {},
   "outputs": [
    {
     "name": "stdout",
     "output_type": "stream",
     "text": [
      "OrderedDict([('AMD', 0.28004), ('NFLX', 0.26248), ('AAPL', 0.16481), ('GOOG', 0.29267)])\n",
      "Expected annual return: 43.7%\n",
      "Annual volatility: 30.9%\n",
      "Sharpe Ratio: 1.35\n"
     ]
    },
    {
     "data": {
      "text/plain": [
       "(0.436657601464819, 0.309426862265964, 1.3465463160295572)"
      ]
     },
     "execution_count": 17,
     "metadata": {},
     "output_type": "execute_result"
    }
   ],
   "source": [
    "# Portfolio Optimization\n",
    "\n",
    "# Calculate the expected returns and the annualized sample covariance matrix of asset returns\n",
    "mu = expected_returns.mean_historical_return(df)\n",
    "S = risk_models.sample_cov(df)\n",
    "\n",
    "# Optimize for maximum sharpe ratio\n",
    "ef = EfficientFrontier(mu,S,weight_bounds=(None,None))\n",
    "ef.add_constraint(lambda w: w[0]+w[1]+w[2]+w[3] == 1)\n",
    "weights = ef.max_sharpe()\n",
    "cleaned_weights = ef.clean_weights() \n",
    "print(cleaned_weights)\n",
    "ef.portfolio_performance(verbose=True)"
   ]
  },
  {
   "cell_type": "code",
   "execution_count": 18,
   "metadata": {},
   "outputs": [
    {
     "name": "stdout",
     "output_type": "stream",
     "text": [
      "Discrete allocation:  {'AMD': 174, 'NFLX': 26, 'AAPL': 65, 'GOOG': 6}\n",
      "Funds remaining: $17.91\n"
     ]
    }
   ],
   "source": [
    "# Get the discrete allocation of each share per stock\n",
    "from pypfopt.discrete_allocation import DiscreteAllocation, get_latest_prices\n",
    "\n",
    "latest_prices = get_latest_prices(df)\n",
    "weights = cleaned_weights\n",
    "da = DiscreteAllocation(weights,latest_prices,total_portfolio_value = 50000)\n",
    "\n",
    "allocation,leftover = da.lp_portfolio()\n",
    "print('Discrete allocation: ',allocation)\n",
    "print('Funds remaining: ${:.2f}'.format(leftover))"
   ]
  },
  {
   "cell_type": "code",
   "execution_count": 19,
   "metadata": {},
   "outputs": [
    {
     "name": "stdout",
     "output_type": "stream",
     "text": [
      "OrderedDict([('AMD', 0.28004), ('NFLX', 0.26248), ('AAPL', 0.16481), ('GOOG', 0.29267)])\n",
      "Expected annual return: 43.7%\n",
      "Annual volatility: 30.9%\n",
      "Sharpe Ratio: 1.35\n"
     ]
    },
    {
     "data": {
      "text/plain": [
       "(0.436657601464819, 0.309426862265964, 1.3465463160295572)"
      ]
     },
     "execution_count": 19,
     "metadata": {},
     "output_type": "execute_result"
    },
    {
     "data": {
      "image/png": "[encoded data removed]",
      "text/plain": [
       "<Figure size 432x288 with 1 Axes>"
      ]
     },
     "metadata": {
      "needs_background": "light"
     },
     "output_type": "display_data"
    }
   ],
   "source": [
    "# Portfolio Optimization\n",
    "\n",
    "# Calculate the expected returns and the annualized sample covariance matrix of asset returns\n",
    "mu = expected_returns.mean_historical_return(df)\n",
    "S = risk_models.sample_cov(df)\n",
    "\n",
    "# Optimize for maximum sharpe ratio\n",
    "ef = EfficientFrontier(mu,S,weight_bounds=(None,None))\n",
    "ef.add_constraint(lambda w: w[0]+w[1]+w[2]+w[3] == 1)\n",
    "plotting.plot_efficient_frontier(ef)\n",
    "weights = ef.max_sharpe()\n",
    "cleaned_weights = ef.clean_weights() \n",
    "print(cleaned_weights)\n",
    "ef.portfolio_performance(verbose=True)"
   ]
  },
  {
   "cell_type": "code",
   "execution_count": 20,
   "metadata": {},
   "outputs": [
    {
     "data": {
      "image/png": "[encoded data removed]",
      "text/plain": [
       "<Figure size 432x288 with 1 Axes>"
      ]
     },
     "metadata": {
      "needs_background": "light"
     },
     "output_type": "display_data"
    },
    {
     "name": "stdout",
     "output_type": "stream",
     "text": [
      "OrderedDict([('AMD', 0.28004), ('NFLX', 0.26248), ('AAPL', 0.16481), ('GOOG', 0.29267)])\n",
      "Expected annual return: 43.7%\n",
      "Annual volatility: 30.9%\n",
      "Sharpe Ratio: 1.35\n"
     ]
    },
    {
     "data": {
      "text/plain": [
       "(0.436657601464819, 0.309426862265964, 1.3465463160295572)"
      ]
     },
     "execution_count": 20,
     "metadata": {},
     "output_type": "execute_result"
    }
   ],
   "source": [
    "# Portfolio Optimization\n",
    "\n",
    "# Calculate the expected returns and the annualized sample covariance matrix of asset returns\n",
    "mu = expected_returns.mean_historical_return(df)\n",
    "S = risk_models.sample_cov(df)\n",
    "\n",
    "# Optimize for maximum sharpe ratio\n",
    "ef = EfficientFrontier(mu,S,weight_bounds=(None,None))\n",
    "ef.add_constraint(lambda w: w[0]+w[1]+w[2]+w[3] == 1)\n",
    "# 100 portfolios with risks between 0.10 and 0.30\n",
    "risk_range = np.linspace(0.30, 0.80, 1000)\n",
    "plotting.plot_efficient_frontier(ef, ef_param=\"risk\", ef_param_range=risk_range,show_assets=True, showfig=True)\n",
    "weights = ef.max_sharpe()\n",
    "cleaned_weights = ef.clean_weights() \n",
    "print(cleaned_weights)\n",
    "ef.portfolio_performance(verbose=True)"
   ]
  },
  {
   "cell_type": "code",
   "execution_count": 21,
   "metadata": {},
   "outputs": [
    {
     "data": {
      "image/png": "[encoded data removed]",
      "text/plain": [
       "<Figure size 432x288 with 1 Axes>"
      ]
     },
     "metadata": {
      "needs_background": "light"
     },
     "output_type": "display_data"
    }
   ],
   "source": [
    "# Calculate the expected returns and the annualized sample covariance matrix of asset returns\n",
    "mu = expected_returns.mean_historical_return(df)\n",
    "S = risk_models.sample_cov(df)\n",
    "\n",
    "# Optimize for maximum sharpe ratio\n",
    "ef = EfficientFrontier(mu,S,weight_bounds=(None,None))\n",
    "ef.add_constraint(lambda w: w[0]+w[1]+w[2]+w[3] == 1)\n",
    "\n",
    "fig, ax = plt.subplots()\n",
    "plotting.plot_efficient_frontier(ef, ax=ax, show_assets=False)\n",
    "\n",
    "# Find the tangency portfolio\n",
    "ef.max_sharpe()\n",
    "ret_tangent, std_tangent, _ = ef.portfolio_performance()\n",
    "ax.scatter(std_tangent, ret_tangent, marker=\"*\", s=100, c=\"r\", label=\"Max Sharpe\")\n",
    "\n",
    "# Generate random portfolios\n",
    "n_samples = 10000\n",
    "w = np.random.dirichlet(np.ones(len(mu)), n_samples)\n",
    "rets = w.dot(mu)\n",
    "stds = np.sqrt(np.diag(w @ S @ w.T))\n",
    "sharpes = rets / stds\n",
    "ax.scatter(stds, rets, marker=\".\", c=sharpes, cmap=\"viridis_r\")\n",
    "\n",
    "# Output\n",
    "ax.set_title(\"Efficient Frontier with random portfolios\")\n",
    "ax.legend()\n",
    "plt.tight_layout()\n",
    "plt.savefig(\"ef_scatter.png\", dpi=200)\n",
    "plt.show()"
   ]
  }
 ],
 "metadata": {
  "kernelspec": {
   "display_name": "Python 3",
   "language": "python",
   "name": "python3"
  },
  "language_info": {
   "codemirror_mode": {
    "name": "ipython",
    "version": 3
   },
   "file_extension": ".py",
   "mimetype": "text/x-python",
   "name": "python",
   "nbconvert_exporter": "python",
   "pygments_lexer": "ipython3",
   "version": "3.6.8"
  }
 },
 "nbformat": 4,
 "nbformat_minor": 2
}
